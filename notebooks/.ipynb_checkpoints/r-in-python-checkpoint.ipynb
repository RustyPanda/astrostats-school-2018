{
 "cells": [
  {
   "cell_type": "markdown",
   "metadata": {},
   "source": [
    "Hello world"
   ]
  },
  {
   "cell_type": "code",
   "execution_count": 22,
   "metadata": {},
   "outputs": [],
   "source": [
    "\n",
    "import matplotlib.pyplot as plt\n",
    "\n",
    "import seaborn as sns\n",
    "\n",
    "import rpy2\n",
    "import rpy2.robjects as robjects\n",
    "import rpy2.robjects.packages as rpackages\n",
    "\n",
    "import pandas as pd"
   ]
  },
  {
   "cell_type": "code",
   "execution_count": 23,
   "metadata": {},
   "outputs": [],
   "source": [
    "from rpy2.robjects.packages import importr\n",
    "# import R's \"base\" package\n",
    "base = importr('base')\n",
    "\n",
    "# import R's \"utils\" package\n",
    "utils = importr('utils')\n"
   ]
  },
  {
   "cell_type": "code",
   "execution_count": 24,
   "metadata": {},
   "outputs": [],
   "source": [
    "# # R package names\n",
    "# packnames = (\n",
    "#     'ggplot2', \n",
    "#     'hexbin',\n",
    "#     'scatterplot3d',\n",
    "#     'spatstat',\n",
    "#     'alphahull',\n",
    "#     'dixon')\n",
    "\n",
    "# # R vector of strings\n",
    "# from rpy2.robjects.vectors import StrVector\n",
    "\n",
    "# # Selectively install what needs to be install.\n",
    "# # We are fancy, just because we can.\n",
    "# # names_to_install = list(filter(lambda x: ~rpackages.isinstalled(x), packnames))\n",
    "# # if len(names_to_install) > 0:\n",
    "# #     utils.install_packages(StrVector(names_to_install))"
   ]
  },
  {
   "cell_type": "code",
   "execution_count": 25,
   "metadata": {},
   "outputs": [],
   "source": [
    "galaxy_data_loc = 'efigi.csv'\n",
    "df = pd.read_csv(galaxy_data_loc)"
   ]
  },
  {
   "cell_type": "code",
   "execution_count": 26,
   "metadata": {},
   "outputs": [
    {
     "data": {
      "text/html": [
       "<div>\n",
       "<style scoped>\n",
       "    .dataframe tbody tr th:only-of-type {\n",
       "        vertical-align: middle;\n",
       "    }\n",
       "\n",
       "    .dataframe tbody tr th {\n",
       "        vertical-align: top;\n",
       "    }\n",
       "\n",
       "    .dataframe thead th {\n",
       "        text-align: right;\n",
       "    }\n",
       "</style>\n",
       "<table border=\"1\" class=\"dataframe\">\n",
       "  <thead>\n",
       "    <tr style=\"text-align: right;\">\n",
       "      <th></th>\n",
       "      <th>PGC</th>\n",
       "      <th>Name</th>\n",
       "      <th>RA</th>\n",
       "      <th>Dec</th>\n",
       "      <th>DCom</th>\n",
       "      <th>T</th>\n",
       "      <th>B.T</th>\n",
       "      <th>armC</th>\n",
       "      <th>armS</th>\n",
       "      <th>armR</th>\n",
       "      <th>barL</th>\n",
       "      <th>iRing</th>\n",
       "      <th>oRing</th>\n",
       "      <th>pRing</th>\n",
       "      <th>Pert</th>\n",
       "      <th>vDust</th>\n",
       "      <th>pDust</th>\n",
       "      <th>floc</th>\n",
       "      <th>spot</th>\n",
       "      <th>inc</th>\n",
       "    </tr>\n",
       "  </thead>\n",
       "  <tbody>\n",
       "    <tr>\n",
       "      <th>0</th>\n",
       "      <td>212</td>\n",
       "      <td>IC5381</td>\n",
       "      <td>0.7971</td>\n",
       "      <td>15.9651</td>\n",
       "      <td>160.0</td>\n",
       "      <td>1</td>\n",
       "      <td>0.50</td>\n",
       "      <td>0.25</td>\n",
       "      <td>0.75</td>\n",
       "      <td>NaN</td>\n",
       "      <td>0.25</td>\n",
       "      <td>0.5</td>\n",
       "      <td>0.0</td>\n",
       "      <td>0.0</td>\n",
       "      <td>0.25</td>\n",
       "      <td>0.75</td>\n",
       "      <td>0.25</td>\n",
       "      <td>0.25</td>\n",
       "      <td>0.00</td>\n",
       "      <td>0.75</td>\n",
       "    </tr>\n",
       "    <tr>\n",
       "      <th>1</th>\n",
       "      <td>218</td>\n",
       "      <td>NGC7814</td>\n",
       "      <td>0.8121</td>\n",
       "      <td>16.1454</td>\n",
       "      <td>15.8</td>\n",
       "      <td>0</td>\n",
       "      <td>0.75</td>\n",
       "      <td>NaN</td>\n",
       "      <td>NA</td>\n",
       "      <td>NaN</td>\n",
       "      <td>NaN</td>\n",
       "      <td>NaN</td>\n",
       "      <td>NaN</td>\n",
       "      <td>NaN</td>\n",
       "      <td>0.00</td>\n",
       "      <td>1.00</td>\n",
       "      <td>0.00</td>\n",
       "      <td>0.00</td>\n",
       "      <td>0.00</td>\n",
       "      <td>1.00</td>\n",
       "    </tr>\n",
       "    <tr>\n",
       "      <th>2</th>\n",
       "      <td>243</td>\n",
       "      <td>NGC7808</td>\n",
       "      <td>0.8839</td>\n",
       "      <td>-10.7446</td>\n",
       "      <td>123.7</td>\n",
       "      <td>-2</td>\n",
       "      <td>1.00</td>\n",
       "      <td>0.00</td>\n",
       "      <td>NaN</td>\n",
       "      <td>NaN</td>\n",
       "      <td>0.00</td>\n",
       "      <td>0.0</td>\n",
       "      <td>0.0</td>\n",
       "      <td>0.0</td>\n",
       "      <td>0.25</td>\n",
       "      <td>0.25</td>\n",
       "      <td>NaN</td>\n",
       "      <td>0.00</td>\n",
       "      <td>0.00</td>\n",
       "      <td>0.00</td>\n",
       "    </tr>\n",
       "    <tr>\n",
       "      <th>3</th>\n",
       "      <td>255</td>\n",
       "      <td>UGC00017</td>\n",
       "      <td>0.9300</td>\n",
       "      <td>15.2183</td>\n",
       "      <td>13.3</td>\n",
       "      <td>9</td>\n",
       "      <td>0.00</td>\n",
       "      <td>0.00</td>\n",
       "      <td>NaN</td>\n",
       "      <td>0.25</td>\n",
       "      <td>0.00</td>\n",
       "      <td>0.0</td>\n",
       "      <td>0.0</td>\n",
       "      <td>0.0</td>\n",
       "      <td>0.25</td>\n",
       "      <td>0.25</td>\n",
       "      <td>NaN</td>\n",
       "      <td>0.50</td>\n",
       "      <td>0.25</td>\n",
       "      <td>0.25</td>\n",
       "    </tr>\n",
       "    <tr>\n",
       "      <th>4</th>\n",
       "      <td>281</td>\n",
       "      <td>PGC000281</td>\n",
       "      <td>1.0025</td>\n",
       "      <td>-11.1778</td>\n",
       "      <td>161.9</td>\n",
       "      <td>7</td>\n",
       "      <td>0.25</td>\n",
       "      <td>0.00</td>\n",
       "      <td>0.25</td>\n",
       "      <td>0.75</td>\n",
       "      <td>0.25</td>\n",
       "      <td>0.0</td>\n",
       "      <td>0.0</td>\n",
       "      <td>0.0</td>\n",
       "      <td>0.50</td>\n",
       "      <td>0.25</td>\n",
       "      <td>NaN</td>\n",
       "      <td>0.50</td>\n",
       "      <td>0.25</td>\n",
       "      <td>0.25</td>\n",
       "    </tr>\n",
       "  </tbody>\n",
       "</table>\n",
       "</div>"
      ],
      "text/plain": [
       "   PGC       Name      RA      Dec   DCom  T   B.T  armC  armS  armR  barL  \\\n",
       "0  212     IC5381  0.7971  15.9651  160.0  1  0.50  0.25  0.75   NaN  0.25   \n",
       "1  218    NGC7814  0.8121  16.1454   15.8  0  0.75   NaN   NA    NaN   NaN   \n",
       "2  243    NGC7808  0.8839 -10.7446  123.7 -2  1.00  0.00   NaN   NaN  0.00   \n",
       "3  255   UGC00017  0.9300  15.2183   13.3  9  0.00  0.00   NaN  0.25  0.00   \n",
       "4  281  PGC000281  1.0025 -11.1778  161.9  7  0.25  0.00  0.25  0.75  0.25   \n",
       "\n",
       "   iRing  oRing  pRing  Pert  vDust  pDust  floc  spot   inc  \n",
       "0    0.5    0.0    0.0  0.25   0.75   0.25  0.25  0.00  0.75  \n",
       "1    NaN    NaN    NaN  0.00   1.00   0.00  0.00  0.00  1.00  \n",
       "2    0.0    0.0    0.0  0.25   0.25    NaN  0.00  0.00  0.00  \n",
       "3    0.0    0.0    0.0  0.25   0.25    NaN  0.50  0.25  0.25  \n",
       "4    0.0    0.0    0.0  0.50   0.25    NaN  0.50  0.25  0.25  "
      ]
     },
     "execution_count": 26,
     "metadata": {},
     "output_type": "execute_result"
    }
   ],
   "source": [
    "df.head()"
   ]
  },
  {
   "cell_type": "markdown",
   "metadata": {},
   "source": [
    "## III Examine spatial distribution of full and trimmed sample\n",
    " Divide T morphological measure into classical galaxy classes"
   ]
  },
  {
   "cell_type": "code",
   "execution_count": 29,
   "metadata": {},
   "outputs": [
    {
     "data": {
      "image/png": "[encoded data removed]",
      "text/plain": [
       "<matplotlib.figure.Figure at 0x7ff085046f60>"
      ]
     },
     "metadata": {},
     "output_type": "display_data"
    }
   ],
   "source": [
    "plt.plot()\n",
    "plt.scatter(df['RA'], df['Dec'])\n",
    "plt.xlabel('RA')\n",
    "plt.ylabel('Dec')\n",
    "plt.savefig('ra_and_dec.png')"
   ]
  },
  {
   "cell_type": "code",
   "execution_count": 30,
   "metadata": {},
   "outputs": [],
   "source": [
    "from mpl_toolkits.mplot3d import Axes3D\n",
    "See https://matplotlib.org/2.1.1/gallery/mplot3d/scatter3d.html\n",
    "    "
   ]
  },
  {
   "cell_type": "code",
   "execution_count": 28,
   "metadata": {},
   "outputs": [],
   "source": [
    "\n",
    "trim <- which(RA > 150 & RA < 250 & Dec > 17)  \n",
    "RA.trim <- RA[trim]  ;  Dec.trim <- Dec[trim]  \n",
    "T.trim <- T[trim]  ;  DCom.trim <- DCom[trim]\n",
    "length(RA.trim)\n",
    "plot(RA.trim, Dec.trim, pch=20, cex=0.3, asp=1, xlim=c(250,150), \n",
    "     ylim=c(15,75), xlab='R.A.', ylab='Dec')   # not shown\n",
    "\n",
    "scatterplot3d(RA.trim, DCom[trim], Dec.trim, pch=20, cex.symbols=0.3, \n",
    "     xlab='RA', ylab='Dist (Mpc)', zlab='Dec')\n",
    "\n",
    "galclass.trim <- cut(T.trim, breaks=c( (-7), (-4), (-1), 9, 10, 11), \n",
    "     labels=c('Ell', 'Len', 'Sp', 'Irr', 'Dw'))\n",
    "summary(galclass.trim)"
   ]
  }
 ],
 "metadata": {
  "kernelspec": {
   "display_name": "Python 3",
   "language": "python",
   "name": "python3"
  },
  "language_info": {
   "codemirror_mode": {
    "name": "ipython",
    "version": 3
   },
   "file_extension": ".py",
   "mimetype": "text/x-python",
   "name": "python",
   "nbconvert_exporter": "python",
   "pygments_lexer": "ipython3",
   "version": "3.6.4"
  }
 },
 "nbformat": 4,
 "nbformat_minor": 2
}
